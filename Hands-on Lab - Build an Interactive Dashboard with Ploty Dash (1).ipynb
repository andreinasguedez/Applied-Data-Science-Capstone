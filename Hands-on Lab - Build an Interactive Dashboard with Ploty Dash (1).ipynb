{
 "cells": [
  {
   "cell_type": "code",
   "execution_count": 1,
   "id": "31a346f7",
   "metadata": {},
   "outputs": [
    {
     "name": "stdout",
     "output_type": "stream",
     "text": [
      "Requirement already satisfied: dash in c:\\python\\python310\\lib\\site-packages (2.6.2)\n",
      "Requirement already satisfied: dash-html-components==2.0.0 in c:\\python\\python310\\lib\\site-packages (from dash) (2.0.0)\n",
      "Requirement already satisfied: dash-table==5.0.0 in c:\\python\\python310\\lib\\site-packages (from dash) (5.0.0)\n",
      "Requirement already satisfied: Flask>=1.0.4 in c:\\python\\python310\\lib\\site-packages (from dash) (2.2.2)\n",
      "Requirement already satisfied: plotly>=5.0.0 in c:\\python\\python310\\lib\\site-packages (from dash) (5.10.0)\n",
      "Requirement already satisfied: flask-compress in c:\\python\\python310\\lib\\site-packages (from dash) (1.13)\n",
      "Requirement already satisfied: dash-core-components==2.0.0 in c:\\python\\python310\\lib\\site-packages (from dash) (2.0.0)\n",
      "Requirement already satisfied: Jinja2>=3.0 in c:\\python\\python310\\lib\\site-packages (from Flask>=1.0.4->dash) (3.1.2)\n",
      "Requirement already satisfied: Werkzeug>=2.2.2 in c:\\python\\python310\\lib\\site-packages (from Flask>=1.0.4->dash) (2.2.2)\n",
      "Requirement already satisfied: click>=8.0 in c:\\python\\python310\\lib\\site-packages (from Flask>=1.0.4->dash) (8.1.3)\n",
      "Requirement already satisfied: itsdangerous>=2.0 in c:\\python\\python310\\lib\\site-packages (from Flask>=1.0.4->dash) (2.1.2)\n",
      "Requirement already satisfied: tenacity>=6.2.0 in c:\\python\\python310\\lib\\site-packages (from plotly>=5.0.0->dash) (8.1.0)\n",
      "Requirement already satisfied: brotli in c:\\python\\python310\\lib\\site-packages (from flask-compress->dash) (1.0.9)\n",
      "Requirement already satisfied: colorama in c:\\python\\python310\\lib\\site-packages (from click>=8.0->Flask>=1.0.4->dash) (0.4.5)\n",
      "Requirement already satisfied: MarkupSafe>=2.0 in c:\\python\\python310\\lib\\site-packages (from Jinja2>=3.0->Flask>=1.0.4->dash) (2.1.1)\n"
     ]
    },
    {
     "name": "stderr",
     "output_type": "stream",
     "text": [
      "\n",
      "[notice] A new release of pip available: 22.2.2 -> 22.3\n",
      "[notice] To update, run: python.exe -m pip install --upgrade pip\n",
      "C:\\Users\\andre\\AppData\\Local\\Temp\\ipykernel_20544\\120714552.py:5: UserWarning: \n",
      "The dash_html_components package is deprecated. Please replace\n",
      "`import dash_html_components as html` with `from dash import html`\n",
      "  import dash_html_components as html\n",
      "C:\\Users\\andre\\AppData\\Local\\Temp\\ipykernel_20544\\120714552.py:6: UserWarning: \n",
      "The dash_core_components package is deprecated. Please replace\n",
      "`import dash_core_components as dcc` with `from dash import dcc`\n",
      "  import dash_core_components as dcc\n"
     ]
    }
   ],
   "source": [
    "!pip install dash\n",
    "# Import required libraries\n",
    "import pandas as pd\n",
    "import dash\n",
    "import dash_html_components as html\n",
    "import dash_core_components as dcc\n",
    "from dash.dependencies import Input, Output\n",
    "import plotly.express as px"
   ]
  },
  {
   "cell_type": "code",
   "execution_count": 2,
   "id": "8572ca50",
   "metadata": {},
   "outputs": [],
   "source": [
    "# Read the Spacex data into pandas dataframe\n",
    "spacex_df = pd.read_csv(\"spacex_launch_dash.csv\")\n",
    "max_payload = spacex_df['Payload Mass (kg)'].max()\n",
    "min_payload = spacex_df['Payload Mass (kg)'].min()"
   ]
  },
  {
   "cell_type": "code",
   "execution_count": 3,
   "id": "40c416a1",
   "metadata": {},
   "outputs": [],
   "source": [
    "# Create a dash application\n",
    "app = dash.Dash(__name__)"
   ]
  },
  {
   "cell_type": "code",
   "execution_count": 4,
   "id": "2a791bdf",
   "metadata": {},
   "outputs": [],
   "source": [
    "# Create an app layout\n",
    "\n",
    "sites=spacex_df['Launch Site'].unique().tolist()\n",
    "sites.insert(0,'All Sites')"
   ]
  },
  {
   "cell_type": "code",
   "execution_count": 5,
   "id": "47c988d3",
   "metadata": {},
   "outputs": [],
   "source": [
    "app.layout = html.Div(children=[html.H1('SpaceX Launch Records Dashboard',\n",
    "                                        style={'textAlign': 'center', 'color': '#503D36',\n",
    "                                               'font-size': 40}),\n",
    "                                # TASK 1: Add a dropdown list to enable Launch Site selection\n",
    "                                # The default select value is for ALL sites\n",
    "                                dcc.Dropdown(\n",
    "                                   id='site-dropdown',\n",
    "                                   options=[\n",
    "                                    {'label': i, 'value': i} for i in sites],\n",
    "                                    placeholder=\"Select a Launch Site here\",\n",
    "                                    value='All Sites',\n",
    "                                    searchable=True),\n",
    "                            \n",
    "                                html.Br(),\n",
    "\n",
    "                                # TASK 2: Add a pie chart to show the total successful launches count for all sites\n",
    "                                # If a specific launch site was selected, show the Success vs. Failed counts for the site\n",
    "                                html.Div(dcc.Graph(id='success-pie-chart')),\n",
    "                                html.Br(),\n",
    "\n",
    "                                html.P(\"Payload range (Kg):\"),\n",
    "                                # TASK 3: Add a slider to select payload range\n",
    "                                dcc.RangeSlider(id='payload-slider',\n",
    "                                min=0,\n",
    "                                max=10000,\n",
    "                                step=1000,\n",
    "                                value=[min_payload,max_payload],\n",
    "                                marks={\n",
    "                                0: '0 kg',\n",
    "                                2500: '2500',\n",
    "                                5000: '5000',\n",
    "                                7500: '7500',\n",
    "                                10000: '10000'\n",
    "                                }),\n",
    "\n",
    "                                # TASK 4: Add a scatter chart to show the correlation between payload and launch success\n",
    "                                html.Div(dcc.Graph(id='success-payload-scatter-chart')),\n",
    "                                ])"
   ]
  },
  {
   "cell_type": "code",
   "execution_count": 6,
   "id": "a3421983",
   "metadata": {},
   "outputs": [],
   "source": [
    "# TASK 2:\n",
    "# Add a callback function for `site-dropdown` as input, `success-pie-chart` as output\n",
    "@app.callback(\n",
    "Output(component_id='success-pie-chart', component_property='figure'),\n",
    "Input(component_id='site-dropdown', component_property='value')\n",
    ")\n",
    "def get_pie(value):\n",
    "    filtered_df = spacex_df\n",
    "    if value == 'All Sites':\n",
    "        fig = px.pie(filtered_df, values='class', names='Launch Site', title='Total Success Launches By Site')\n",
    "        return fig\n",
    "\n",
    "    else:\n",
    "        filtered_df = spacex_df[spacex_df['Launch Site'] == value].groupby(['Launch Site', 'class']). \\\n",
    "        size().reset_index(name='class count')\n",
    "        title = f\"Total Success Launches for site {value}\"\n",
    "        fig = px.pie(filtered_df,values='class count', names='class', title=title)\n",
    "        return fig"
   ]
  },
  {
   "cell_type": "code",
   "execution_count": 7,
   "id": "00d1fb45",
   "metadata": {},
   "outputs": [],
   "source": [
    "# Add a callback function for `site-dropdown` and `payload-slider` as inputs, `success-payload-scatter-chart` as output\n",
    "@app.callback(\n",
    "Output(component_id='success-payload-scatter-chart', component_property='figure'),\n",
    "[Input(component_id='site-dropdown', component_property='value'),\n",
    "Input(component_id='payload-slider', component_property='value')]\n",
    ")\n",
    "\n",
    "def get_scatter(value1,value2):\n",
    "    filtered_df2_1=spacex_df[(spacex_df['Payload Mass (kg)'] > value2[0]) & (spacex_df['Payload Mass (kg)'] < value2[1])]\n",
    "\n",
    "    if value1=='All Sites':\n",
    "        fig= px.scatter(filtered_df2_1,x=\"Payload Mass (kg)\",y=\"class\",color=\"Booster Version Category\",\\\n",
    "        title=\"Correlation between Payload and Success for All sites\")\n",
    "        return fig\n",
    "    else :\n",
    "        filtered_df2_2=filtered_df2_1[filtered_df2_1['Launch Site']==value1]\n",
    "        fig= px.scatter(filtered_df2_2,x=\"Payload Mass (kg)\",y=\"class\",color=\"Booster Version Category\",\\\n",
    "        title=f\"Correlation between Payload and Success for site {value1}\")\n",
    "        return fig"
   ]
  },
  {
   "cell_type": "code",
   "execution_count": null,
   "id": "988a244f",
   "metadata": {},
   "outputs": [
    {
     "name": "stdout",
     "output_type": "stream",
     "text": [
      "Dash is running on http://127.0.0.1:8050/\n",
      "\n",
      " * Serving Flask app '__main__'\n",
      " * Debug mode: off\n"
     ]
    },
    {
     "name": "stderr",
     "output_type": "stream",
     "text": [
      "WARNING: This is a development server. Do not use it in a production deployment. Use a production WSGI server instead.\n",
      " * Running on http://127.0.0.1:8050\n",
      "Press CTRL+C to quit\n",
      "127.0.0.1 - - [22/Oct/2022 18:31:07] \"GET / HTTP/1.1\" 200 -\n",
      "127.0.0.1 - - [22/Oct/2022 18:31:07] \"GET /_dash-layout HTTP/1.1\" 200 -\n",
      "127.0.0.1 - - [22/Oct/2022 18:31:07] \"GET /_dash-dependencies HTTP/1.1\" 200 -\n",
      "127.0.0.1 - - [22/Oct/2022 18:31:07] \"GET /_favicon.ico?v=2.6.2 HTTP/1.1\" 200 -\n",
      "127.0.0.1 - - [22/Oct/2022 18:31:07] \"GET /_dash-component-suites/dash/dcc/async-graph.js HTTP/1.1\" 304 -\n",
      "127.0.0.1 - - [22/Oct/2022 18:31:07] \"GET /_dash-component-suites/dash/dcc/async-slider.js HTTP/1.1\" 304 -\n",
      "127.0.0.1 - - [22/Oct/2022 18:31:07] \"GET /_dash-component-suites/dash/dcc/async-dropdown.js HTTP/1.1\" 304 -\n",
      "127.0.0.1 - - [22/Oct/2022 18:31:07] \"GET /_dash-component-suites/dash/dcc/async-plotlyjs.js HTTP/1.1\" 304 -\n",
      "127.0.0.1 - - [22/Oct/2022 18:31:09] \"POST /_dash-update-component HTTP/1.1\" 200 -\n",
      "127.0.0.1 - - [22/Oct/2022 18:31:09] \"POST /_dash-update-component HTTP/1.1\" 200 -\n",
      "127.0.0.1 - - [22/Oct/2022 18:35:56] \"POST /_dash-update-component HTTP/1.1\" 200 -\n",
      "127.0.0.1 - - [22/Oct/2022 18:35:56] \"POST /_dash-update-component HTTP/1.1\" 200 -\n",
      "127.0.0.1 - - [22/Oct/2022 18:43:21] \"POST /_dash-update-component HTTP/1.1\" 200 -\n",
      "127.0.0.1 - - [22/Oct/2022 18:43:25] \"POST /_dash-update-component HTTP/1.1\" 200 -\n",
      "127.0.0.1 - - [22/Oct/2022 18:43:29] \"POST /_dash-update-component HTTP/1.1\" 200 -\n",
      "127.0.0.1 - - [22/Oct/2022 18:43:34] \"POST /_dash-update-component HTTP/1.1\" 200 -\n",
      "127.0.0.1 - - [22/Oct/2022 18:43:50] \"POST /_dash-update-component HTTP/1.1\" 200 -\n",
      "127.0.0.1 - - [22/Oct/2022 18:43:54] \"POST /_dash-update-component HTTP/1.1\" 200 -\n",
      "127.0.0.1 - - [22/Oct/2022 18:43:57] \"POST /_dash-update-component HTTP/1.1\" 200 -\n",
      "127.0.0.1 - - [22/Oct/2022 18:44:05] \"POST /_dash-update-component HTTP/1.1\" 200 -\n",
      "127.0.0.1 - - [22/Oct/2022 18:44:11] \"POST /_dash-update-component HTTP/1.1\" 200 -\n",
      "127.0.0.1 - - [22/Oct/2022 18:44:21] \"POST /_dash-update-component HTTP/1.1\" 200 -\n"
     ]
    }
   ],
   "source": [
    "# Run the app\n",
    "if __name__ == '__main__':\n",
    "    app.run_server()"
   ]
  },
  {
   "cell_type": "code",
   "execution_count": null,
   "id": "111a3368",
   "metadata": {},
   "outputs": [],
   "source": []
  }
 ],
 "metadata": {
  "kernelspec": {
   "display_name": "Python 3 (ipykernel)",
   "language": "python",
   "name": "python3"
  },
  "language_info": {
   "codemirror_mode": {
    "name": "ipython",
    "version": 3
   },
   "file_extension": ".py",
   "mimetype": "text/x-python",
   "name": "python",
   "nbconvert_exporter": "python",
   "pygments_lexer": "ipython3",
   "version": "3.10.6"
  }
 },
 "nbformat": 4,
 "nbformat_minor": 5
}
